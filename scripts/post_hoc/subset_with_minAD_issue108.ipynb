{
 "cells": [
  {
   "cell_type": "markdown",
   "id": "9d3648b5-e6a9-413b-b331-37c5198596d4",
   "metadata": {},
   "source": [
    "# Filter SNPs Whose Minor Allele Count is Low"
   ]
  },
  {
   "cell_type": "markdown",
   "id": "aeeafe5f-d0dc-4c5a-8459-a1e2a11c8138",
   "metadata": {},
   "source": [
    "2023-11-15"
   ]
  },
  {
   "cell_type": "markdown",
   "id": "360d7245-062b-4c14-aa57-f2fbc46f0922",
   "metadata": {},
   "source": [
    "This notebook is an example of how to filter SNPs outputed by cellsnp-lite in a post-hoc manner. Specifically, in the following part, we will filter SNPs whose minor allele count (here we mean AD) is low."
   ]
  },
  {
   "cell_type": "code",
   "execution_count": 1,
   "id": "19231bf2-4c00-489c-b77f-99e327e93d1d",
   "metadata": {},
   "outputs": [],
   "source": [
    "data_dir = \"../../data/csp_mode1/\"     # cellsnp dir\n",
    "out_dir = \"./subset_with_minAD_issue108\""
   ]
  },
  {
   "cell_type": "code",
   "execution_count": 2,
   "id": "b8805839-4396-446c-b23c-a65839590192",
   "metadata": {},
   "outputs": [],
   "source": [
    "# whether `--genotype` is specified when calling cellsnp-lite\n",
    "# i.e., whether there is a file named \"cellSNP.cells.vcf\" or \"cellSNP.cells.vcf.gz\" in the cellsnp dir.\n",
    "is_genotype = False"
   ]
  },
  {
   "cell_type": "code",
   "execution_count": 3,
   "id": "3fa73f02-3805-49c0-a347-3222d8a15575",
   "metadata": {},
   "outputs": [],
   "source": [
    "# whether the output VCF file is gzipped.\n",
    "is_gzip = True"
   ]
  },
  {
   "cell_type": "code",
   "execution_count": 4,
   "id": "3dc13d97-9d38-4d76-97ff-1092f1813e53",
   "metadata": {},
   "outputs": [],
   "source": [
    "min_AD = 3    # minimal count of minor allele"
   ]
  },
  {
   "cell_type": "code",
   "execution_count": 5,
   "id": "91e1cb64-9279-4055-a2c0-e8c301896cc6",
   "metadata": {},
   "outputs": [],
   "source": [
    "import anndata as ad\n",
    "import numpy as np\n",
    "import pandas as pd\n",
    "import pysam\n",
    "import scipy as sp\n",
    "from scipy import io\n",
    "from scipy import sparse"
   ]
  },
  {
   "cell_type": "code",
   "execution_count": 6,
   "id": "fb18288b-496a-49d2-84bb-f792056e8bc2",
   "metadata": {},
   "outputs": [
    {
     "name": "stdout",
     "output_type": "stream",
     "text": [
      "0.9.2\n",
      "1.22.4\n",
      "2.0.3\n",
      "0.16.0.1\n",
      "1.8.1\n"
     ]
    }
   ],
   "source": [
    "print(ad.__version__)\n",
    "print(np.__version__)\n",
    "print(pd.__version__)\n",
    "print(pysam.__version__)\n",
    "print(sp.__version__)"
   ]
  },
  {
   "cell_type": "code",
   "execution_count": 7,
   "id": "18160c4c-8b4b-442d-b1dd-e5e19be5651e",
   "metadata": {},
   "outputs": [],
   "source": [
    "import gzip\n",
    "import os"
   ]
  },
  {
   "cell_type": "markdown",
   "id": "218d3e24-1b12-4e7c-b624-2467da4272a5",
   "metadata": {},
   "source": [
    "## Load data"
   ]
  },
  {
   "cell_type": "code",
   "execution_count": 8,
   "id": "e8287eea-8ffc-4e9c-9512-24a1b29add28",
   "metadata": {},
   "outputs": [],
   "source": [
    "def load_vcf(vcf_file, comment_char = \"#\"):\n",
    "    # load comment\n",
    "    fp = None\n",
    "    if vcf_file.endswith(\".gz\") or vcf_file.endswith(\".GZ\"):\n",
    "        fp = gzip.open(vcf_file, \"rt\")\n",
    "    else:\n",
    "        fp = open(vcf_file, \"r\")\n",
    "        \n",
    "    comment = \"\"\n",
    "    pre_line = None\n",
    "    for line in fp:\n",
    "        if not line or line[0] != comment_char:\n",
    "            break\n",
    "        pre_line = line\n",
    "        comment += line\n",
    "    \n",
    "    fp.close()\n",
    "    \n",
    "    if not pre_line:\n",
    "        raise IOError()\n",
    "    assert len(pre_line) > 6\n",
    "    assert pre_line[:6] == \"#CHROM\"\n",
    "    \n",
    "    # load content\n",
    "    content = pd.read_csv(vcf_file, sep = \"\\t\", header = None, comment = \"#\")\n",
    "    content.columns = pre_line.strip()[1:].split(\"\\t\")\n",
    "    \n",
    "    return((comment, content))"
   ]
  },
  {
   "cell_type": "code",
   "execution_count": 9,
   "id": "09cf164c-ff1c-4eae-969f-4f475ded9c00",
   "metadata": {},
   "outputs": [],
   "source": [
    "def load_samples(sample_file):\n",
    "    df = pd.read_csv(sample_file, header = None)\n",
    "    df.columns = [\"cell\"]\n",
    "    return(df)"
   ]
  },
  {
   "cell_type": "code",
   "execution_count": 10,
   "id": "a25a2088-e5aa-4b5c-b004-bd0b75d74557",
   "metadata": {},
   "outputs": [],
   "source": [
    "def load_matrix(matrix_file):\n",
    "    mtx = None\n",
    "    try:\n",
    "        mtx = sp.io.mmread(matrix_file)\n",
    "    except:\n",
    "        mtx = io.mmread(matrix_file)\n",
    "    mtx = mtx.toarray()    # convert from sparse matrix to ndarray to support slicing.\n",
    "    return(mtx)"
   ]
  },
  {
   "cell_type": "code",
   "execution_count": 11,
   "id": "630eddc7-c732-4d2f-a834-f1e84dc6a63a",
   "metadata": {},
   "outputs": [],
   "source": [
    "def load_cellsnp_data(csp_dir, is_genotype = False, is_gzip = True):\n",
    "    vcf_suffix = \".gz\" if is_gzip else \"\"\n",
    "    base_vcf_comment, base_vcf = load_vcf(\n",
    "        vcf_file = os.path.join(csp_dir, \"cellSNP.base.vcf\" + vcf_suffix),\n",
    "        comment_char = \"#\")\n",
    "    cell_vcf, cell_vcf_comment = None, None\n",
    "    if is_genotype:\n",
    "        cell_vcf_comment, cell_vcf = load_vcf(\n",
    "            vcf_file = os.path.join(csp_dir, \"cellSNP.cells.vcf\" + vcf_suffix),\n",
    "            comment_char = \"#\")\n",
    "    samples = load_samples(os.path.join(csp_dir, \"cellSNP.samples.tsv\"))\n",
    "    AD_mtx = load_matrix(os.path.join(csp_dir, \"cellSNP.tag.AD.mtx\"))\n",
    "    DP_mtx = load_matrix(os.path.join(csp_dir, \"cellSNP.tag.DP.mtx\"))\n",
    "    OTH_mtx = load_matrix(os.path.join(csp_dir, \"cellSNP.tag.OTH.mtx\"))\n",
    "    \n",
    "    adata = ad.AnnData(\n",
    "        X = AD_mtx, \n",
    "        obs = base_vcf, \n",
    "        var = samples)\n",
    "    \n",
    "    adata.uns[\"is_gzip\"] = is_gzip\n",
    "    adata.uns[\"is_genotype\"] = is_genotype\n",
    "    \n",
    "    adata.uns[\"base_vcf_comment\"] = base_vcf_comment\n",
    "    \n",
    "    if cell_vcf is None:\n",
    "        adata.uns[\"cell_vcf_comment\"] = None\n",
    "    else:\n",
    "        adata.obsm[\"cell_vcf\"] = cell_vcf\n",
    "        adata.uns[\"cell_vcf_comment\"] = cell_vcf_comment\n",
    "        \n",
    "    adata.layers[\"DP_mtx\"] = DP_mtx\n",
    "    adata.layers[\"OTH_mtx\"] = OTH_mtx\n",
    "    \n",
    "    return(adata)"
   ]
  },
  {
   "cell_type": "markdown",
   "id": "d79e03b9-93da-4f29-b446-8bdeb95f6d04",
   "metadata": {},
   "source": [
    "Load the cellsnp output into an AnnData object *adata*:\n",
    "- **adata.X** is the SNP x Cell AD mtx (in \"numpy.ndarray\" format)\n",
    "- **adata.obs** is the annotation of the SNPs (a pandas DataFrame)\n",
    "- **adata.var** is the annotation of the cells (a pandas DataFrame)\n",
    "- **adata.uns** contains four keys: *is_gzip*, *is_genotype*, *base_vcf_comment* (the comment string of the file cellSNP.base.vcf[.gz]), and *cell_vcf_comment* (the comment string of the file cellSNP.cells.vcf[.gz]; None if this file does not exist).\n",
    "- **adata.layers** contains two keys: *DP_mtx*, and *OTH_mtx*, both are in \"numpy.ndarray\" format.\n",
    "- if file cellSNP.cells.vcf[.gz] exists, **adata.obsm[\"cell_vcf\"]** will store the content of the file (in pandas DataFrame format)."
   ]
  },
  {
   "cell_type": "code",
   "execution_count": 12,
   "id": "c4f0f651-77b3-4d15-afd1-b057a0b3ec8f",
   "metadata": {},
   "outputs": [
    {
     "name": "stderr",
     "output_type": "stream",
     "text": [
      "/home/xianjie/.anaconda3/envs/F/lib/python3.8/site-packages/anndata/_core/anndata.py:121: ImplicitModificationWarning: Transforming to str index.\n",
      "  warnings.warn(\"Transforming to str index.\", ImplicitModificationWarning)\n",
      "/home/xianjie/.anaconda3/envs/F/lib/python3.8/site-packages/anndata/_core/anndata.py:121: ImplicitModificationWarning: Transforming to str index.\n",
      "  warnings.warn(\"Transforming to str index.\", ImplicitModificationWarning)\n"
     ]
    },
    {
     "data": {
      "text/plain": [
       "AnnData object with n_obs × n_vars = 798 × 400\n",
       "    obs: 'CHROM', 'POS', 'ID', 'REF', 'ALT', 'QUAL', 'FILTER', 'INFO'\n",
       "    var: 'cell'\n",
       "    uns: 'is_gzip', 'is_genotype', 'base_vcf_comment', 'cell_vcf_comment'\n",
       "    layers: 'DP_mtx', 'OTH_mtx'"
      ]
     },
     "execution_count": 12,
     "metadata": {},
     "output_type": "execute_result"
    }
   ],
   "source": [
    "adata = load_cellsnp_data(csp_dir = data_dir, is_genotype = is_genotype, is_gzip = is_gzip)\n",
    "adata"
   ]
  },
  {
   "cell_type": "code",
   "execution_count": 13,
   "id": "b3f13299-d34c-4978-acd7-0f047bdd8ef2",
   "metadata": {},
   "outputs": [
    {
     "data": {
      "text/plain": [
       "numpy.ndarray"
      ]
     },
     "execution_count": 13,
     "metadata": {},
     "output_type": "execute_result"
    }
   ],
   "source": [
    "type(adata.layers[\"DP_mtx\"])"
   ]
  },
  {
   "cell_type": "markdown",
   "id": "78d444b9-1608-4eda-b68c-2af107cdb544",
   "metadata": {},
   "source": [
    "## Subset data"
   ]
  },
  {
   "cell_type": "markdown",
   "id": "e19841d4-221c-413b-a5d8-609dc532c856",
   "metadata": {},
   "source": [
    "Here, as an example, we will filter SNPs whose AD is less than `min_AD`."
   ]
  },
  {
   "cell_type": "code",
   "execution_count": 14,
   "id": "04dc2af3-ea4d-4019-94eb-26cf3b01e7e0",
   "metadata": {},
   "outputs": [
    {
     "data": {
      "text/plain": [
       "(798,)"
      ]
     },
     "execution_count": 14,
     "metadata": {},
     "output_type": "execute_result"
    }
   ],
   "source": [
    "# aggregate AD of all cells\n",
    "agg_AD = adata.X.sum(axis = 1)\n",
    "agg_AD = np.squeeze(np.asarray(agg_AD))\n",
    "agg_AD.shape"
   ]
  },
  {
   "cell_type": "code",
   "execution_count": 15,
   "id": "7402b7c2-8958-4328-afcf-2d3a08e52af8",
   "metadata": {},
   "outputs": [
    {
     "data": {
      "text/plain": [
       "View of AnnData object with n_obs × n_vars = 609 × 400\n",
       "    obs: 'CHROM', 'POS', 'ID', 'REF', 'ALT', 'QUAL', 'FILTER', 'INFO'\n",
       "    var: 'cell'\n",
       "    uns: 'is_gzip', 'is_genotype', 'base_vcf_comment', 'cell_vcf_comment'\n",
       "    layers: 'DP_mtx', 'OTH_mtx'"
      ]
     },
     "execution_count": 15,
     "metadata": {},
     "output_type": "execute_result"
    }
   ],
   "source": [
    "# filter SNPs whose AD is less than `min_AD`.\n",
    "adata_s = adata[agg_AD >= min_AD, ]\n",
    "adata_s"
   ]
  },
  {
   "cell_type": "markdown",
   "id": "da2df1ef-06ad-4f91-9e18-0b862b164166",
   "metadata": {},
   "source": [
    "## Save data"
   ]
  },
  {
   "cell_type": "code",
   "execution_count": 16,
   "id": "f91cce74-9a62-42fe-bad5-402d8c92a7cb",
   "metadata": {},
   "outputs": [],
   "source": [
    "def save_vcf(vcf_df, vcf_comment, vcf_file, is_gzip = True):\n",
    "    df_file = vcf_file + \".df\"\n",
    "    vcf_df.to_csv(df_file, sep = \"\\t\", header = False, index = False)\n",
    "    \n",
    "    fp = pysam.BGZFile(vcf_file, \"w\") if is_gzip else open(vcf_file, \"w\")\n",
    "    fp.write(vcf_comment.encode())\n",
    "    with open(df_file, \"r\") as df_fp:\n",
    "        for line in df_fp:\n",
    "            fp.write(line.encode())\n",
    "    fp.close()\n",
    "    \n",
    "    os.remove(df_file)"
   ]
  },
  {
   "cell_type": "code",
   "execution_count": 17,
   "id": "1b994c48-2f16-4076-a6df-ec119ae8ad26",
   "metadata": {},
   "outputs": [],
   "source": [
    "def save_matrix(mtx, matrix_file):\n",
    "    mtx = sparse.csr_matrix(mtx)   # convert from ndarray to sparse matrix to be fully compatible with .mtx format.\n",
    "    io.mmwrite(matrix_file, mtx)"
   ]
  },
  {
   "cell_type": "code",
   "execution_count": 18,
   "id": "fb87e81f-d73a-4ea3-8aa9-36c58262baa8",
   "metadata": {},
   "outputs": [],
   "source": [
    "def save_samples(sample_df, sample_file):\n",
    "    sample_df.to_csv(sample_file, header = False, index = False)"
   ]
  },
  {
   "cell_type": "code",
   "execution_count": 19,
   "id": "480333c4-3805-4eb8-b3b1-1d169f4f30a9",
   "metadata": {},
   "outputs": [],
   "source": [
    "def save_cellsnp_data(adata, out_dir):\n",
    "    if not os.path.exists(out_dir):\n",
    "        os.mkdir(out_dir)\n",
    "        \n",
    "    is_gzip = adata.uns[\"is_gzip\"]\n",
    "    is_genotype = adata.uns[\"is_genotype\"]\n",
    "    \n",
    "    vcf_suffix = \".gz\" if is_gzip else \"\"\n",
    "    \n",
    "    save_vcf(adata.obs, adata.uns[\"base_vcf_comment\"], \n",
    "             vcf_file = os.path.join(out_dir, \"cellSNP.base.vcf\" + vcf_suffix),\n",
    "             is_gzip = is_gzip)\n",
    "\n",
    "    if is_genotype:\n",
    "        save_vcf(adata.obsm[\"cell_vcf\"], adata.uns[\"cell_vcf_comment\"],\n",
    "                 vcf_file = os.path.join(out_dir, \"cellSNP.cells.vcf\" + vcf_suffix),\n",
    "                 is_gzip = is_gzip)\n",
    "    \n",
    "    save_samples(adata.var, os.path.join(out_dir, \"cellSNP.samples.tsv\"))\n",
    "    \n",
    "    save_matrix(adata.X, os.path.join(out_dir, \"cellSNP.tag.AD.mtx\"))\n",
    "    save_matrix(adata.layers[\"DP_mtx\"], os.path.join(out_dir, \"cellSNP.tag.DP.mtx\"))\n",
    "    save_matrix(adata.layers[\"OTH_mtx\"], os.path.join(out_dir, \"cellSNP.tag.OTH.mtx\"))"
   ]
  },
  {
   "cell_type": "code",
   "execution_count": 20,
   "id": "40845e55-e927-437e-adfa-94ff4ef7100c",
   "metadata": {},
   "outputs": [],
   "source": [
    "save_cellsnp_data(adata_s, out_dir)"
   ]
  },
  {
   "cell_type": "code",
   "execution_count": 21,
   "id": "e0a7e2b2-2f23-4eec-8df3-2fe91aa4e9c0",
   "metadata": {},
   "outputs": [
    {
     "data": {
      "text/plain": [
       "['cellSNP.base.vcf.gz',\n",
       " 'cellSNP.tag.AD.mtx',\n",
       " 'cellSNP.samples.tsv',\n",
       " 'cellSNP.tag.OTH.mtx',\n",
       " 'cellSNP.tag.DP.mtx']"
      ]
     },
     "execution_count": 21,
     "metadata": {},
     "output_type": "execute_result"
    }
   ],
   "source": [
    "os.listdir(out_dir)"
   ]
  }
 ],
 "metadata": {
  "kernelspec": {
   "display_name": "F",
   "language": "python",
   "name": "f"
  },
  "language_info": {
   "codemirror_mode": {
    "name": "ipython",
    "version": 3
   },
   "file_extension": ".py",
   "mimetype": "text/x-python",
   "name": "python",
   "nbconvert_exporter": "python",
   "pygments_lexer": "ipython3",
   "version": "3.8.5"
  }
 },
 "nbformat": 4,
 "nbformat_minor": 5
}
